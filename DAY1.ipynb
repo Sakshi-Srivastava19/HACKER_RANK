{
 "cells": [
  {
   "cell_type": "markdown",
   "id": "c58f5b37-12bd-4a05-9130-9479fc399d44",
   "metadata": {},
   "source": [
    "# HACKER RANK(DAY1)"
   ]
  },
  {
   "cell_type": "markdown",
   "id": "b591488d-b8d9-4c50-b317-2c85cdb16e57",
   "metadata": {},
   "source": [
    "# 1.Print Hello, World!"
   ]
  },
  {
   "cell_type": "code",
   "execution_count": 13,
   "id": "a2152a64-1d96-421c-b75a-2c7ea75ea43b",
   "metadata": {},
   "outputs": [
    {
     "name": "stdout",
     "output_type": "stream",
     "text": [
      "Hello, World!\n"
     ]
    }
   ],
   "source": [
    "print(\"Hello, World!\")"
   ]
  },
  {
   "cell_type": "markdown",
   "id": "3d6ec513-fb06-4d57-8083-ab8e8f40e221",
   "metadata": {},
   "source": [
    "# 2.Python If-Else\n",
    "\n",
    "**Task**\n",
    "Given an integer, n, perform the following conditional actions:\n",
    "If n is odd, print Weird<br>\n",
    "If n is even and in the inclusive range of 2 to 5, print Not Weird<br>\n",
    "If n is even and in the inclusive range of 6 to 20, print Weird<br>\n",
    "If n is even and greater than 20, print Not Weird<br>\n",
    "<br>\n",
    "Input Format<br>\n",
    "a single line containing a positive integer, n.\n",
    "<br>\n",
    "Constraints<br>\n",
    "1 <= n <= 100\n",
    "<br>\n",
    "Output Format<br>\n",
    "Print Weird if the number is weird; otherwise, print Not Weird.\n",
    "<br>\n",
    "!/bin/python\n"
   ]
  },
  {
   "cell_type": "code",
   "execution_count": 18,
   "id": "77945547-ab79-4b73-b25e-d71d5be4b844",
   "metadata": {},
   "outputs": [
    {
     "name": "stdin",
     "output_type": "stream",
     "text": [
      "ENTER NO 8\n"
     ]
    },
    {
     "name": "stdout",
     "output_type": "stream",
     "text": [
      "Weird\n"
     ]
    }
   ],
   "source": [
    "import math\n",
    "import os\n",
    "import random\n",
    "import re\n",
    "import sys\n",
    "\n",
    "\n",
    "n = int(input('ENTER NO'))\n",
    "if n%2!=0:\n",
    "        print('Weird')\n",
    "\n",
    "else:\n",
    "        if n%2==0:\n",
    "            if n>2 and n<5 or n>20:\n",
    "                print('Not Weird')\n",
    "            elif n>=6 and n<=20:\n",
    "                print('Weird')\n",
    "            "
   ]
  },
  {
   "cell_type": "markdown",
   "id": "5fa5d7bd-645a-4e90-9d9e-84e608691390",
   "metadata": {},
   "source": [
    "# Arithmetic Operators\n",
    "\n",
    "**Task**\n",
    "Read two integers from STDIN and print three lines where:\n",
    "The first line contains the sum of the two numbers.<br>\n",
    "The second line contains the difference of the two numbers (first - second).<br>\n",
    "The third line contains the product of the two numbers.<br><br>\n",
    "<br>\n",
    "**Input Format**<br>\n",
    "The first line contains the first integer, a. The second line contains the second integer, b.\n",
    "<br><br>\n",
    "**Constraints**<br>\n",
    "1 <= a <= 10^10<br>\n",
    "1 <= b <= 10^10<br>\n",
    " <br><br>\n",
    "**Output Format**<br>\n",
    "Print the three lines."
   ]
  },
  {
   "cell_type": "code",
   "execution_count": 7,
   "id": "33340b51-3886-4d8c-ae41-7db9512a9f23",
   "metadata": {},
   "outputs": [
    {
     "name": "stdin",
     "output_type": "stream",
     "text": [
      " 3\n",
      " 4\n"
     ]
    },
    {
     "name": "stdout",
     "output_type": "stream",
     "text": [
      "7\n",
      "-1\n",
      "12\n"
     ]
    }
   ],
   "source": [
    "a = int(input())\n",
    "b = int(input())\n",
    "print(a+b)\n",
    "print(a-b)\n",
    "print(a*b)"
   ]
  },
  {
   "cell_type": "markdown",
   "id": "893ccaac-62e9-4b2a-bfec-000e40b5a666",
   "metadata": {},
   "source": [
    "# Python: Division\n",
    "\n",
    "**Task**\n",
    "Read two integers and print two lines. The first line should contain integer division, a // b. The second line should contain float division, a / b.\n",
    "<br>You don't need to perform any rounding or formatting operations.\n",
    "<br><br>\n",
    "**Input Format**<br>\n",
    "The first line contains the first integer, a. The second line contains the second integer, b.\n",
    "<br><br>\n",
    "**Output Format**<br><br>\n",
    "Print the two lines as described above.<br>\n",
    "8<br>\n",
    "4<br>\n",
    "2<br>\n",
    "2.0<br>"
   ]
  },
  {
   "cell_type": "code",
   "execution_count": 12,
   "id": "f0518566-49ed-4fe0-b41c-8249619c5d93",
   "metadata": {},
   "outputs": [
    {
     "name": "stdin",
     "output_type": "stream",
     "text": [
      " 3\n",
      " 3\n"
     ]
    },
    {
     "name": "stdout",
     "output_type": "stream",
     "text": [
      "1\n",
      "1.0\n"
     ]
    }
   ],
   "source": [
    "a = int(input())\n",
    "b = int(input())\n",
    "print(a//b)\n",
    "print(a/b)"
   ]
  },
  {
   "cell_type": "markdown",
   "id": "bdeda4dd-bd36-4ad3-9165-e3b8ee9ec86d",
   "metadata": {},
   "source": [
    "# Loops\n",
    "\n",
    "**Task** <br><br>\n",
    "Read an integer N. For all non-negative integers i < N, print i**2. See the sample for details.<br>\n",
    "<br>\n",
    "Input Format<br>\n",
    "The first and only line contains the integer, N.<br>\n",
    "<br>\n",
    "**Constraints**<br>\n",
    "1 <= N <= 20<br>\n",
    "<br><br>\n",
    "**Output Format**<br>\n",
    "Print N lines, one corresponding to each i.\n",
    "<br><br>\n",
    "Enter your code here. Read input from STDIN. Print output to STDOUT\n"
   ]
  },
  {
   "cell_type": "code",
   "execution_count": 26,
   "id": "20a38893-794e-4e46-8677-10cccc8cdaba",
   "metadata": {},
   "outputs": [
    {
     "name": "stdin",
     "output_type": "stream",
     "text": [
      " 6\n"
     ]
    },
    {
     "name": "stdout",
     "output_type": "stream",
     "text": [
      "0\n",
      "1\n",
      "4\n",
      "9\n",
      "16\n",
      "25\n"
     ]
    }
   ],
   "source": [
    "n = int(input())\n",
    "for i in range(n):\n",
    "     if i>=0:\n",
    "        print(i**2)"
   ]
  },
  {
   "cell_type": "code",
   "execution_count": 24,
   "id": "ced579f6-52fc-4bad-b6c3-bfac90f4c650",
   "metadata": {},
   "outputs": [
    {
     "name": "stdout",
     "output_type": "stream",
     "text": [
      "0\n",
      "1\n",
      "4\n",
      "9\n",
      "16\n",
      "25\n",
      "36\n",
      "49\n"
     ]
    }
   ],
   "source": [
    "n = int(input())\n",
    "for i in range(n):\n",
    "    print(i*i)"
   ]
  },
  {
   "cell_type": "markdown",
   "id": "49e5911d-342e-4936-912b-e161fa8ffa9d",
   "metadata": {},
   "source": [
    "# LEAP YEAR\n",
    "We add a Leap Day on February 29, almost every four years. The leap day is an extra, or intercalary, day and we add it to the shortest month of the year, February. <br>\n",
    "In the Gregorian calendar three criteria must be taken into account to identify leap years:<br><br>\n",
    "The year can be evenly divided by 4;<br>\n",
    "If the year can be evenly divided by 100, it is NOT a leap year, unless;<br>\n",
    "The year is also evenly divisible by 400. Then it is a leap year.<br>\n",
    "<br>\n",
    "This means that in the Gregorian calendar, the years 2000 and 2400 are leap years, while 1800, 1900, 2100, 2200, 2300 and 2500 are NOT leap years.<br>\n",
    "\n",
    "**Task** <br>\n",
    "You are given the year, and you have to write a function to check if the year is leap or not.<br>\n",
    "Note that you have to complete the function and remaining code is given as template.<br>\n",
    "\n",
    "**Input Format**<br>\n",
    "Read y, the year that needs to be checked.<br>\n",
    "<br>\n",
    "**Constraints**<br>\n",
    "1900 <= y <= 10**5<br>\n",
    "<br>\n",
    "**Output Format**<br>\n",
    "Output is taken care of by the template. Your function must return a boolean value (True/False)"
   ]
  },
  {
   "cell_type": "code",
   "execution_count": 3,
   "id": "13d763c0-0028-4e58-ba34-0cd4ff21cf50",
   "metadata": {},
   "outputs": [
    {
     "name": "stdin",
     "output_type": "stream",
     "text": [
      " 3034\n"
     ]
    },
    {
     "name": "stdout",
     "output_type": "stream",
     "text": [
      "False\n"
     ]
    }
   ],
   "source": [
    "def is_leap(year):\n",
    "    leap = False\n",
    "    if (year % 4 == 0 and year % 100 != 0) or (year % 400 == 0):\n",
    "        leap=True\n",
    "    return leap\n",
    "\n",
    "year = int(input())\n",
    "print(is_leap(year))"
   ]
  },
  {
   "cell_type": "code",
   "execution_count": null,
   "id": "aaa29481-a859-40b5-8201-61e4082218fc",
   "metadata": {},
   "outputs": [],
   "source": []
  }
 ],
 "metadata": {
  "kernelspec": {
   "display_name": "Python 3 (ipykernel)",
   "language": "python",
   "name": "python3"
  },
  "language_info": {
   "codemirror_mode": {
    "name": "ipython",
    "version": 3
   },
   "file_extension": ".py",
   "mimetype": "text/x-python",
   "name": "python",
   "nbconvert_exporter": "python",
   "pygments_lexer": "ipython3",
   "version": "3.12.7"
  }
 },
 "nbformat": 4,
 "nbformat_minor": 5
}
